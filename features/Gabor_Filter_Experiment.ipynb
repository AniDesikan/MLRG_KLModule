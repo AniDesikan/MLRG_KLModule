{
  "nbformat": 4,
  "nbformat_minor": 0,
  "metadata": {
    "colab": {
      "provenance": []
    },
    "kernelspec": {
      "name": "python3",
      "display_name": "Python 3"
    },
    "language_info": {
      "name": "python"
    }
  },
  "cells": [
    {
      "cell_type": "markdown",
      "source": [
        "# Initial Research:\n",
        "This notebook is testing the practical applications of replacing earlier, large activation maps in CNNs with gabor-filter features to reduce training time and increase convergence rate.\n",
        "- This article discusses benefits of use of Gabor filters to supplement CNNs: https://www.mdpi.com/2079-9292/12/19/4072\n",
        "- Article emphasizing the difficulty of tuning parameters for gabor filters: https://homepages.inf.ed.ac.uk/rbf/CAVIAR/PAPERS/05-ibpria-features.pdf\n",
        "\n",
        "Findings:\n",
        "Implementation of gabor filters led to higher accuracy in fewer epochs. Gabor filters with a reduced CNN size had comparable loss and accuracy with significantly reduced training time and fewer paramters."
      ],
      "metadata": {
        "id": "lMn4voHRjKr7"
      }
    },
    {
      "cell_type": "code",
      "source": [
        "import tensorflow as tf\n",
        "import numpy as np\n",
        "from skimage import color, filters, io"
      ],
      "metadata": {
        "id": "cqxmvxGSlF3K"
      },
      "execution_count": 1,
      "outputs": []
    },
    {
      "cell_type": "code",
      "source": [
        "# Load CIFAR-10 dataset\n",
        "cifar10 = tf.keras.datasets.cifar10\n",
        "(train_images, train_labels), (test_images, test_labels) = cifar10.load_data()\n",
        "\n",
        "# Convert images to numpy arrays\n",
        "train_images = np.array(train_images)[:5000]\n",
        "test_images = np.array(test_images)[:500]\n",
        "train_labels = train_labels[:5000]\n",
        "test_labels = test_labels[:500]"
      ],
      "metadata": {
        "colab": {
          "base_uri": "https://localhost:8080/"
        },
        "id": "cZ7vHrmgmmsT",
        "outputId": "4309c621-4745-49b0-ed10-c606c1b3a286"
      },
      "execution_count": 2,
      "outputs": [
        {
          "output_type": "stream",
          "name": "stdout",
          "text": [
            "Downloading data from https://www.cs.toronto.edu/~kriz/cifar-10-python.tar.gz\n",
            "170498071/170498071 [==============================] - 12s 0us/step\n"
          ]
        }
      ]
    },
    {
      "cell_type": "code",
      "source": [
        "theta = np.linspace(0,3,5)\n",
        "omega = np.linspace(1,5,4)\n",
        "gabor_train_images = []\n",
        "gabor_test_images = []\n",
        "\n",
        "for ind, val in enumerate(train_images):\n",
        "  gray_image = color.rgb2gray(val)\n",
        "  ph = []\n",
        "  for th in theta:\n",
        "    for om in omega:\n",
        "      ph.append(filters.gabor(gray_image, om, th)[0])\n",
        "  gabor_train_images.append(np.stack(ph, axis=-1))\n",
        "\n",
        "for ind, val in enumerate(test_images):\n",
        "  gray_image = color.rgb2gray(val)\n",
        "  ph = []\n",
        "  for th in theta:\n",
        "    for om in omega:\n",
        "      ph.append(filters.gabor(gray_image, om, th)[0])\n",
        "  gabor_test_images.append(np.stack(ph, axis=-1))\n",
        "\n",
        "gabor_train_images = np.stack(gabor_train_images)\n",
        "gabor_test_images = np.stack(gabor_test_images)\n"
      ],
      "metadata": {
        "id": "AgXer6FrnV26"
      },
      "execution_count": 3,
      "outputs": []
    },
    {
      "cell_type": "code",
      "source": [
        "from tensorflow.keras import layers, models\n",
        "from tensorflow.keras.optimizers import Adam\n",
        "from tensorflow.keras.losses import SparseCategoricalCrossentropy\n",
        "from tensorflow.keras.metrics import SparseCategoricalAccuracy\n",
        "\n",
        "model = models.Sequential([\n",
        "    layers.Conv2D(32, (3, 3), activation='relu', input_shape=(32,32,3)),\n",
        "    layers.MaxPooling2D((2, 2)),\n",
        "    layers.Conv2D(64, (3, 3), activation='relu'),\n",
        "    layers.MaxPooling2D((2, 2)),\n",
        "    layers.Conv2D(64, (3, 3), activation='relu'),\n",
        "    layers.Flatten(),\n",
        "    layers.Dense(64, activation='relu'),\n",
        "    layers.Dense(10, activation='softmax')  # Assuming 10 classes for classification\n",
        "])\n",
        "\n",
        "# Compile the model\n",
        "model.compile(optimizer=Adam(), loss=SparseCategoricalCrossentropy(), metrics=[SparseCategoricalAccuracy()])\n",
        "\n",
        "# Train the model\n",
        "model.fit(train_images, train_labels, epochs=10, validation_data=(test_images, test_labels))\n"
      ],
      "metadata": {
        "colab": {
          "base_uri": "https://localhost:8080/"
        },
        "id": "cuyKOQpcumkd",
        "outputId": "9afcc01c-a6e0-4067-dd3a-a51070d39e22"
      },
      "execution_count": 4,
      "outputs": [
        {
          "output_type": "stream",
          "name": "stdout",
          "text": [
            "Epoch 1/10\n",
            "157/157 [==============================] - 8s 40ms/step - loss: 3.7241 - sparse_categorical_accuracy: 0.1888 - val_loss: 2.0960 - val_sparse_categorical_accuracy: 0.2300\n",
            "Epoch 2/10\n",
            "157/157 [==============================] - 8s 50ms/step - loss: 1.8961 - sparse_categorical_accuracy: 0.3032 - val_loss: 1.8871 - val_sparse_categorical_accuracy: 0.3340\n",
            "Epoch 3/10\n",
            "157/157 [==============================] - 6s 39ms/step - loss: 1.7376 - sparse_categorical_accuracy: 0.3742 - val_loss: 1.7482 - val_sparse_categorical_accuracy: 0.3520\n",
            "Epoch 4/10\n",
            "157/157 [==============================] - 8s 48ms/step - loss: 1.5687 - sparse_categorical_accuracy: 0.4254 - val_loss: 1.7092 - val_sparse_categorical_accuracy: 0.4020\n",
            "Epoch 5/10\n",
            "157/157 [==============================] - 6s 38ms/step - loss: 1.4442 - sparse_categorical_accuracy: 0.4766 - val_loss: 1.7464 - val_sparse_categorical_accuracy: 0.3980\n",
            "Epoch 6/10\n",
            "157/157 [==============================] - 8s 49ms/step - loss: 1.3029 - sparse_categorical_accuracy: 0.5292 - val_loss: 1.7112 - val_sparse_categorical_accuracy: 0.3720\n",
            "Epoch 7/10\n",
            "157/157 [==============================] - 6s 38ms/step - loss: 1.1963 - sparse_categorical_accuracy: 0.5690 - val_loss: 1.6766 - val_sparse_categorical_accuracy: 0.4500\n",
            "Epoch 8/10\n",
            "157/157 [==============================] - 8s 48ms/step - loss: 1.0872 - sparse_categorical_accuracy: 0.6110 - val_loss: 1.6810 - val_sparse_categorical_accuracy: 0.4340\n",
            "Epoch 9/10\n",
            "157/157 [==============================] - 6s 39ms/step - loss: 0.9575 - sparse_categorical_accuracy: 0.6672 - val_loss: 1.7064 - val_sparse_categorical_accuracy: 0.4460\n",
            "Epoch 10/10\n",
            "157/157 [==============================] - 7s 47ms/step - loss: 0.8773 - sparse_categorical_accuracy: 0.6864 - val_loss: 1.8295 - val_sparse_categorical_accuracy: 0.4240\n"
          ]
        },
        {
          "output_type": "execute_result",
          "data": {
            "text/plain": [
              "<keras.src.callbacks.History at 0x7fd7de39cca0>"
            ]
          },
          "metadata": {},
          "execution_count": 4
        }
      ]
    },
    {
      "cell_type": "code",
      "source": [
        "gabor_model = models.Sequential([\n",
        "    #layers.Conv2D(32, (3, 3), activation='relu', input_shape=(32,32,20)),\n",
        "    layers.MaxPooling2D((2, 2)),\n",
        "    layers.Conv2D(64, (3, 3), activation='relu'),\n",
        "    layers.MaxPooling2D((2, 2)),\n",
        "    layers.Conv2D(64, (3, 3), activation='relu'),\n",
        "    layers.Flatten(),\n",
        "    layers.Dense(64, activation='relu'),\n",
        "    layers.Dense(10, activation='softmax')  # Assuming 10 classes for classification\n",
        "])\n",
        "\n",
        "# Compile the model\n",
        "gabor_model.compile(optimizer=Adam(), loss=SparseCategoricalCrossentropy(), metrics=[SparseCategoricalAccuracy()])\n",
        "\n",
        "# Train the model\n",
        "gabor_model.fit(gabor_train_images, train_labels, epochs=10, validation_data=(gabor_test_images, test_labels))\n"
      ],
      "metadata": {
        "colab": {
          "base_uri": "https://localhost:8080/"
        },
        "id": "Udgt7hsKw3s5",
        "outputId": "b20b9850-6730-46d4-d46c-836e579f8ecb"
      },
      "execution_count": 5,
      "outputs": [
        {
          "output_type": "stream",
          "name": "stdout",
          "text": [
            "Epoch 1/10\n",
            "157/157 [==============================] - 4s 23ms/step - loss: 2.2007 - sparse_categorical_accuracy: 0.1904 - val_loss: 2.1207 - val_sparse_categorical_accuracy: 0.2380\n",
            "Epoch 2/10\n",
            "157/157 [==============================] - 3s 22ms/step - loss: 1.9163 - sparse_categorical_accuracy: 0.3118 - val_loss: 1.8444 - val_sparse_categorical_accuracy: 0.3320\n",
            "Epoch 3/10\n",
            "157/157 [==============================] - 5s 31ms/step - loss: 1.7368 - sparse_categorical_accuracy: 0.3794 - val_loss: 1.7360 - val_sparse_categorical_accuracy: 0.3540\n",
            "Epoch 4/10\n",
            "157/157 [==============================] - 3s 22ms/step - loss: 1.5745 - sparse_categorical_accuracy: 0.4466 - val_loss: 1.7561 - val_sparse_categorical_accuracy: 0.3880\n",
            "Epoch 5/10\n",
            "157/157 [==============================] - 3s 22ms/step - loss: 1.4585 - sparse_categorical_accuracy: 0.4922 - val_loss: 1.7476 - val_sparse_categorical_accuracy: 0.3920\n",
            "Epoch 6/10\n",
            "157/157 [==============================] - 3s 22ms/step - loss: 1.3173 - sparse_categorical_accuracy: 0.5418 - val_loss: 1.7820 - val_sparse_categorical_accuracy: 0.4000\n",
            "Epoch 7/10\n",
            "157/157 [==============================] - 5s 31ms/step - loss: 1.1860 - sparse_categorical_accuracy: 0.5896 - val_loss: 1.7640 - val_sparse_categorical_accuracy: 0.3780\n",
            "Epoch 8/10\n",
            "157/157 [==============================] - 3s 22ms/step - loss: 1.0353 - sparse_categorical_accuracy: 0.6378 - val_loss: 1.9574 - val_sparse_categorical_accuracy: 0.3780\n",
            "Epoch 9/10\n",
            "157/157 [==============================] - 4s 24ms/step - loss: 0.9007 - sparse_categorical_accuracy: 0.6812 - val_loss: 2.0413 - val_sparse_categorical_accuracy: 0.4000\n",
            "Epoch 10/10\n",
            "157/157 [==============================] - 5s 29ms/step - loss: 0.7724 - sparse_categorical_accuracy: 0.7368 - val_loss: 2.2631 - val_sparse_categorical_accuracy: 0.3840\n"
          ]
        },
        {
          "output_type": "execute_result",
          "data": {
            "text/plain": [
              "<keras.src.callbacks.History at 0x7fd7dd1f7af0>"
            ]
          },
          "metadata": {},
          "execution_count": 5
        }
      ]
    },
    {
      "cell_type": "code",
      "source": [],
      "metadata": {
        "id": "iWZhH0LsvkJc"
      },
      "execution_count": null,
      "outputs": []
    }
  ]
}